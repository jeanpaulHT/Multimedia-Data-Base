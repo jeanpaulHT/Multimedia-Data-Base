{
 "cells": [
  {
   "cell_type": "code",
   "execution_count": 7,
   "id": "c8c642f7",
   "metadata": {},
   "outputs": [],
   "source": [
    "import matplotlib.pyplot as plt\n",
    "from sklearn.model_selection import train_test_split\n",
    "from sklearn.datasets import fetch_lfw_people\n",
    "from sklearn.decomposition import PCA\n",
    "import pandas as pd"
   ]
  },
  {
   "cell_type": "code",
   "execution_count": 3,
   "id": "4850bc76",
   "metadata": {},
   "outputs": [],
   "source": [
    "lfw_dataset = fetch_lfw_people(min_faces_per_person=100)\n",
    "_, h, w = lfw_dataset.images.shape\n",
    "X = lfw_dataset.data\n",
    "y = lfw_dataset.target\n",
    "target_names = lfw_dataset.target_names\n",
    "# split into a training and testing set\n",
    "X_train, X_test, y_train, y_test = train_test_split(X, y, test_size=0.3)"
   ]
  },
  {
   "cell_type": "code",
   "execution_count": 6,
   "id": "ead6d5e7",
   "metadata": {},
   "outputs": [],
   "source": [
    "n_components = 70\n",
    "pca = PCA(n_components=n_components, whiten=True).fit(X_train)\n",
    "# apply PCA transformation\n",
    "X_train_pca = pca.transform(X_train)\n",
    "X_test_pca = pca.transform(X_test)"
   ]
  },
  {
   "cell_type": "code",
   "execution_count": 4,
   "id": "107f447d",
   "metadata": {},
   "outputs": [
    {
     "data": {
      "text/plain": [
       "798"
      ]
     },
     "execution_count": 4,
     "metadata": {},
     "output_type": "execute_result"
    }
   ],
   "source": [
    "len(X_train)"
   ]
  },
  {
   "cell_type": "code",
   "execution_count": 5,
   "id": "929aabfd",
   "metadata": {},
   "outputs": [
    {
     "data": {
      "text/plain": [
       "342"
      ]
     },
     "execution_count": 5,
     "metadata": {},
     "output_type": "execute_result"
    }
   ],
   "source": [
    "len(X_test)"
   ]
  },
  {
   "cell_type": "code",
   "execution_count": 13,
   "id": "fe6ab512",
   "metadata": {},
   "outputs": [],
   "source": [
    "df = pd.read_csv(\"lfw.csv\")"
   ]
  },
  {
   "cell_type": "code",
   "execution_count": 14,
   "id": "80e9de1e",
   "metadata": {},
   "outputs": [
    {
     "data": {
      "text/html": [
       "<div>\n",
       "<style scoped>\n",
       "    .dataframe tbody tr th:only-of-type {\n",
       "        vertical-align: middle;\n",
       "    }\n",
       "\n",
       "    .dataframe tbody tr th {\n",
       "        vertical-align: top;\n",
       "    }\n",
       "\n",
       "    .dataframe thead th {\n",
       "        text-align: right;\n",
       "    }\n",
       "</style>\n",
       "<table border=\"1\" class=\"dataframe\">\n",
       "  <thead>\n",
       "    <tr style=\"text-align: right;\">\n",
       "      <th></th>\n",
       "      <th>Unnamed: 0</th>\n",
       "      <th>name</th>\n",
       "      <th>1</th>\n",
       "      <th>2</th>\n",
       "      <th>3</th>\n",
       "      <th>4</th>\n",
       "      <th>5</th>\n",
       "      <th>6</th>\n",
       "      <th>7</th>\n",
       "      <th>8</th>\n",
       "      <th>...</th>\n",
       "      <th>119</th>\n",
       "      <th>120</th>\n",
       "      <th>121</th>\n",
       "      <th>122</th>\n",
       "      <th>123</th>\n",
       "      <th>124</th>\n",
       "      <th>125</th>\n",
       "      <th>126</th>\n",
       "      <th>127</th>\n",
       "      <th>128</th>\n",
       "    </tr>\n",
       "  </thead>\n",
       "  <tbody>\n",
       "    <tr>\n",
       "      <th>0</th>\n",
       "      <td>0</td>\n",
       "      <td>lfw/Aaron_Eckhart/Aaron_Eckhart_0001.jpg</td>\n",
       "      <td>-0.078303</td>\n",
       "      <td>0.176384</td>\n",
       "      <td>0.005970</td>\n",
       "      <td>-0.149152</td>\n",
       "      <td>-0.233847</td>\n",
       "      <td>0.073653</td>\n",
       "      <td>-0.054542</td>\n",
       "      <td>-0.049504</td>\n",
       "      <td>...</td>\n",
       "      <td>0.156646</td>\n",
       "      <td>0.048108</td>\n",
       "      <td>-0.005257</td>\n",
       "      <td>-0.063795</td>\n",
       "      <td>-0.040784</td>\n",
       "      <td>-0.080700</td>\n",
       "      <td>-0.006930</td>\n",
       "      <td>-0.126766</td>\n",
       "      <td>-0.013479</td>\n",
       "      <td>0.061030</td>\n",
       "    </tr>\n",
       "    <tr>\n",
       "      <th>1</th>\n",
       "      <td>1</td>\n",
       "      <td>lfw/Aaron_Guiel/Aaron_Guiel_0001.jpg</td>\n",
       "      <td>-0.012346</td>\n",
       "      <td>0.101549</td>\n",
       "      <td>-0.001955</td>\n",
       "      <td>-0.135037</td>\n",
       "      <td>-0.075695</td>\n",
       "      <td>0.072065</td>\n",
       "      <td>-0.031284</td>\n",
       "      <td>-0.087301</td>\n",
       "      <td>...</td>\n",
       "      <td>0.043695</td>\n",
       "      <td>0.134356</td>\n",
       "      <td>0.051421</td>\n",
       "      <td>-0.015573</td>\n",
       "      <td>-0.159824</td>\n",
       "      <td>-0.121363</td>\n",
       "      <td>0.025413</td>\n",
       "      <td>0.006477</td>\n",
       "      <td>-0.018506</td>\n",
       "      <td>0.070438</td>\n",
       "    </tr>\n",
       "    <tr>\n",
       "      <th>2</th>\n",
       "      <td>2</td>\n",
       "      <td>lfw/Aaron_Patterson/Aaron_Patterson_0001.jpg</td>\n",
       "      <td>-0.068305</td>\n",
       "      <td>0.137371</td>\n",
       "      <td>0.105704</td>\n",
       "      <td>0.007556</td>\n",
       "      <td>-0.054209</td>\n",
       "      <td>-0.043051</td>\n",
       "      <td>0.055275</td>\n",
       "      <td>-0.129689</td>\n",
       "      <td>...</td>\n",
       "      <td>-0.031420</td>\n",
       "      <td>0.030030</td>\n",
       "      <td>0.018635</td>\n",
       "      <td>-0.105226</td>\n",
       "      <td>-0.129384</td>\n",
       "      <td>-0.081237</td>\n",
       "      <td>0.024817</td>\n",
       "      <td>0.011313</td>\n",
       "      <td>-0.065541</td>\n",
       "      <td>0.025580</td>\n",
       "    </tr>\n",
       "    <tr>\n",
       "      <th>3</th>\n",
       "      <td>3</td>\n",
       "      <td>lfw/Aaron_Peirsol/Aaron_Peirsol_0001.jpg</td>\n",
       "      <td>-0.082558</td>\n",
       "      <td>0.070488</td>\n",
       "      <td>0.040226</td>\n",
       "      <td>-0.045496</td>\n",
       "      <td>-0.205864</td>\n",
       "      <td>0.061969</td>\n",
       "      <td>-0.004163</td>\n",
       "      <td>-0.035222</td>\n",
       "      <td>...</td>\n",
       "      <td>0.147886</td>\n",
       "      <td>0.098942</td>\n",
       "      <td>0.040107</td>\n",
       "      <td>0.017929</td>\n",
       "      <td>-0.126636</td>\n",
       "      <td>-0.180101</td>\n",
       "      <td>0.007258</td>\n",
       "      <td>-0.098713</td>\n",
       "      <td>-0.002990</td>\n",
       "      <td>0.043678</td>\n",
       "    </tr>\n",
       "    <tr>\n",
       "      <th>4</th>\n",
       "      <td>4</td>\n",
       "      <td>lfw/Aaron_Peirsol/Aaron_Peirsol_0002.jpg</td>\n",
       "      <td>-0.161414</td>\n",
       "      <td>0.061241</td>\n",
       "      <td>0.001377</td>\n",
       "      <td>-0.035371</td>\n",
       "      <td>-0.245479</td>\n",
       "      <td>0.033315</td>\n",
       "      <td>-0.032990</td>\n",
       "      <td>-0.044140</td>\n",
       "      <td>...</td>\n",
       "      <td>0.082530</td>\n",
       "      <td>0.039924</td>\n",
       "      <td>-0.000189</td>\n",
       "      <td>-0.027813</td>\n",
       "      <td>-0.118532</td>\n",
       "      <td>-0.149016</td>\n",
       "      <td>0.013845</td>\n",
       "      <td>-0.085835</td>\n",
       "      <td>0.003405</td>\n",
       "      <td>0.007214</td>\n",
       "    </tr>\n",
       "  </tbody>\n",
       "</table>\n",
       "<p>5 rows × 130 columns</p>\n",
       "</div>"
      ],
      "text/plain": [
       "   Unnamed: 0                                          name         1  \\\n",
       "0           0      lfw/Aaron_Eckhart/Aaron_Eckhart_0001.jpg -0.078303   \n",
       "1           1          lfw/Aaron_Guiel/Aaron_Guiel_0001.jpg -0.012346   \n",
       "2           2  lfw/Aaron_Patterson/Aaron_Patterson_0001.jpg -0.068305   \n",
       "3           3      lfw/Aaron_Peirsol/Aaron_Peirsol_0001.jpg -0.082558   \n",
       "4           4      lfw/Aaron_Peirsol/Aaron_Peirsol_0002.jpg -0.161414   \n",
       "\n",
       "          2         3         4         5         6         7         8  ...  \\\n",
       "0  0.176384  0.005970 -0.149152 -0.233847  0.073653 -0.054542 -0.049504  ...   \n",
       "1  0.101549 -0.001955 -0.135037 -0.075695  0.072065 -0.031284 -0.087301  ...   \n",
       "2  0.137371  0.105704  0.007556 -0.054209 -0.043051  0.055275 -0.129689  ...   \n",
       "3  0.070488  0.040226 -0.045496 -0.205864  0.061969 -0.004163 -0.035222  ...   \n",
       "4  0.061241  0.001377 -0.035371 -0.245479  0.033315 -0.032990 -0.044140  ...   \n",
       "\n",
       "        119       120       121       122       123       124       125  \\\n",
       "0  0.156646  0.048108 -0.005257 -0.063795 -0.040784 -0.080700 -0.006930   \n",
       "1  0.043695  0.134356  0.051421 -0.015573 -0.159824 -0.121363  0.025413   \n",
       "2 -0.031420  0.030030  0.018635 -0.105226 -0.129384 -0.081237  0.024817   \n",
       "3  0.147886  0.098942  0.040107  0.017929 -0.126636 -0.180101  0.007258   \n",
       "4  0.082530  0.039924 -0.000189 -0.027813 -0.118532 -0.149016  0.013845   \n",
       "\n",
       "        126       127       128  \n",
       "0 -0.126766 -0.013479  0.061030  \n",
       "1  0.006477 -0.018506  0.070438  \n",
       "2  0.011313 -0.065541  0.025580  \n",
       "3 -0.098713 -0.002990  0.043678  \n",
       "4 -0.085835  0.003405  0.007214  \n",
       "\n",
       "[5 rows x 130 columns]"
      ]
     },
     "execution_count": 14,
     "metadata": {},
     "output_type": "execute_result"
    }
   ],
   "source": [
    "df.head()"
   ]
  }
 ],
 "metadata": {
  "kernelspec": {
   "display_name": "Python 3",
   "language": "python",
   "name": "python3"
  },
  "language_info": {
   "codemirror_mode": {
    "name": "ipython",
    "version": 3
   },
   "file_extension": ".py",
   "mimetype": "text/x-python",
   "name": "python",
   "nbconvert_exporter": "python",
   "pygments_lexer": "ipython3",
   "version": "3.8.5"
  }
 },
 "nbformat": 4,
 "nbformat_minor": 5
}
